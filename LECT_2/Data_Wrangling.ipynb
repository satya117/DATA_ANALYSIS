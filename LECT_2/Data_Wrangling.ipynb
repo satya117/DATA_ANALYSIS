{
 "cells": [
  {
   "cell_type": "markdown",
   "id": "b223ef04",
   "metadata": {},
   "source": [
    "# Data Pre-Processing"
   ]
  },
  {
   "cell_type": "markdown",
   "id": "c2a6cd2d",
   "metadata": {},
   "source": [
    "- The process of converting or mapping data from the intial \"raw\" form into another format,inorder to prepare the data for futher analysis.\n",
    "- Also known as:\n",
    "  <p>Data cleaning , Data Wrangling</p>"
   ]
  },
  {
   "cell_type": "markdown",
   "id": "24c3ab29",
   "metadata": {},
   "source": [
    "# Dealing Missing Values in Python "
   ]
  },
  {
   "cell_type": "markdown",
   "id": "43fa823d",
   "metadata": {},
   "source": [
    "<h2>What is missing value?</h2>\n",
    "<p>Missing values occur when no data value is stored for a variable(feature) in an observation</p>\n",
    "<p>-Could be represented as \"?\",\"N/A\",0 or just a blank cell</p>"
   ]
  },
  {
   "cell_type": "markdown",
   "id": "97437151",
   "metadata": {},
   "source": [
    "# How to deal with missing data?"
   ]
  },
  {
   "cell_type": "markdown",
   "id": "d3917dc9",
   "metadata": {},
   "source": [
    "<ol>\n",
    "<li>Check with the data collection source</li>\n",
    "<li>Drop the missing values</li>\n",
    "<ul>\n",
    "<li>Drop the variable</li>\n",
    "<li>Drop the data entry</li>\n",
    "</ul>\n",
    "<li>Replce the missing values</li>\n",
    "<ul>\n",
    "<li>replace it with an avg(of similar datapoints)</li>\n",
    "<li>replace it by frequency(categorial data)</li>\n",
    "<li>replace it based on other functions</li>\n",
    "</ul>\n",
    "<li>Leave it as missing data</li>\n",
    "</ol>"
   ]
  },
  {
   "cell_type": "markdown",
   "id": "2af855bb",
   "metadata": {},
   "source": [
    "# How to drop missing values in Python ?"
   ]
  },
  {
   "cell_type": "markdown",
   "id": "7ef44987",
   "metadata": {},
   "source": [
    "Use dataframes.dropna():\n",
    "- axis=0 drop entire row<br>\n",
    "- axis=1 drop the entire column\n",
    "     "
   ]
  },
  {
   "cell_type": "markdown",
   "id": "d84ff72e",
   "metadata": {},
   "source": [
    "ex: df.dropna(subset=[\"price\"],axis=0,inplace=True)\n",
    "- inplace = True is used to modify the dataframe "
   ]
  },
  {
   "cell_type": "markdown",
   "id": "08847a01",
   "metadata": {},
   "source": [
    "<h2>How to replace missng values in Python?</h2>"
   ]
  },
  {
   "cell_type": "markdown",
   "id": "4da1c401",
   "metadata": {},
   "source": [
    "- Use dataframe.replace(missing value, new_value):\n",
    "<p>First find the mean of the column and then replace it</p>\n",
    "<p>Ex:</p>\n",
    "mean = df[\"normalized-losses\"].mean()\n",
    "- df[\"normalized-losses\"].replace(np.nan,mean)"
   ]
  },
  {
   "cell_type": "markdown",
   "id": "1bdf10a0",
   "metadata": {},
   "source": [
    "# Data Formatting"
   ]
  },
  {
   "cell_type": "markdown",
   "id": "2d06aa07",
   "metadata": {},
   "source": [
    "<p>Data is usually collected from different places and stored in different formats</p>\n",
    "<p>Bringing data into a common standard of expression allows user to make meaningful comparison.</p>"
   ]
  },
  {
   "cell_type": "markdown",
   "id": "69994353",
   "metadata": {},
   "source": [
    "Non-formatted:\n",
    "<ul>\n",
    "<li>Confusing</li>\n",
    "<li>Hard to aggregate</li>\n",
    "<li>Hard to compare</li>\n",
    "</ul>\n",
    "Formatted:\n",
    "<ul>\n",
    "<li>more clear</li>\n",
    "<li>easy to aggregate</li>\n",
    "<li>easy to compare</li>\n",
    "</ul>"
   ]
  },
  {
   "cell_type": "markdown",
   "id": "fb69de25",
   "metadata": {},
   "source": [
    "<h2>Applying calculations to an entire column</h2>\n",
    "<p>Example</p>\n",
    "<p>. Convert \"mpg\" to \"L/100km\" in Car dataset.</p>\n",
    "<p>Steps</p>\n",
    "df[\"city-mpg\"] = 23/df[\"city-mpg\"]<br>\n",
    "df.remane(columns=(\"city-mpg\":\"city-L/100km\"),inplace=True)\n"
   ]
  },
  {
   "cell_type": "markdown",
   "id": "dfad97a1",
   "metadata": {},
   "source": [
    "<h3>Incorrect data types</h3>\n",
    "- Sometimes the wrong data type is assigned to a feature"
   ]
  },
  {
   "cell_type": "markdown",
   "id": "53533b26",
   "metadata": {},
   "source": [
    "# Data types in Python and Pandas"
   ]
  },
  {
   "cell_type": "markdown",
   "id": "946cbaea",
   "metadata": {},
   "source": [
    "<ul>\n",
    "<li>There are many data types in pandas</li>\n",
    "<li>Objects:\"A\",\"Hello\"...</li>\n",
    "<li>Int64:1,2,3,4.....</li>\n",
    "<li>Float64:2.13,23.42,......</li>\n",
    "</ul>"
   ]
  },
  {
   "cell_type": "markdown",
   "id": "4e969f79",
   "metadata": {},
   "source": [
    "<h3>Correcting data types</h3>\n",
    "To indentify data types:\n",
    "    <li>Use df.dtype() to indentify data type</li>\n",
    "To convert data types:\n",
    "    <li>Use df.astype() to convert data type.</li>"
   ]
  },
  {
   "cell_type": "markdown",
   "id": "838385c0",
   "metadata": {},
   "source": [
    "# Data Normalization"
   ]
  },
  {
   "cell_type": "markdown",
   "id": "7ac3ce5c",
   "metadata": {},
   "source": [
    "- Uniform the features value with different range<br>\n",
    "<p>Taking income as age as parameter for comparision</p>\n",
    "<u><b>Not-normalized</b></u>\n",
    "<li>\"age\" and \"income\" are in diff range.</li>\n",
    "<li>hard to compare</li>\n",
    "<li>\"income\" will influence the result more</li>\n",
    "<u><b>Normalized(0-1) scale</b></u>\n",
    "<li>similar value range.</li>\n",
    "<li>similar intrinsic influence on analytical model.</li>\n",
    "    "
   ]
  },
  {
   "cell_type": "markdown",
   "id": "f7c07fab",
   "metadata": {},
   "source": [
    "# Methods of Normalizing data"
   ]
  },
  {
   "cell_type": "markdown",
   "id": "6d7958cf",
   "metadata": {},
   "source": [
    "Several approaches for normalization:<br>\n",
    "<ol>\n",
    "    <p>Simple Feature scaling</p>\n",
    "    <li>x<sub>new</sub>= x<sub>old</sub> / x<sub>max</sub></li>\n",
    "    <p>Min-Max</p>\n",
    "    <li>x<sub>new</sub>= x<sub>old</sub> - x<sub>min</sub> / x<sub>max</sub> - x<sub>min</sub> </li>\n",
    "    <p>Z-score</p>\n",
    "    <li>x<sub>new</sub> = x<sub>old</sub> - mean / s.d</li>\n",
    "    \n",
    "</ol>"
   ]
  },
  {
   "cell_type": "markdown",
   "id": "4603b115",
   "metadata": {},
   "source": [
    "# Binning "
   ]
  },
  {
   "cell_type": "markdown",
   "id": "2ce21b99",
   "metadata": {},
   "source": [
    "<li>Binning : Grouping of values into \"bins\"</li>\n",
    "<li>Converts numeric into categorical variables</li>\n",
    "<li>Group a set of numerical values into a set of \"bins\"</li>\n",
    "<li>\"price\" is a feature range from 5,000 to 45,000 (inorder to have a better representation of price) we can bin it in form of [\"low\",\"Mid\",\"High\"]</li>"
   ]
  },
  {
   "cell_type": "markdown",
   "id": "9f29405e",
   "metadata": {},
   "source": [
    "# Turning categorical variables into quantitative variables"
   ]
  },
  {
   "cell_type": "markdown",
   "id": "c90703ff",
   "metadata": {},
   "source": [
    "<h4>Categorical variables</h4>\n",
    "<li> Most statistical models cannot take in the objects/strings as input</li>\n",
    "<b>Solution</b>\n",
    "<li>Add dummy variables for each unique category</li>\n",
    "<li>Assign 0 or 1 in each category</li>"
   ]
  },
  {
   "cell_type": "markdown",
   "id": "320a6fcb",
   "metadata": {},
   "source": [
    "<h3>Dummy variables in Python pandas</h3>\n",
    "<li>Use pandas.get_dummies() method</li>\n",
    "<li>Covert categorical variables to dummy variables (0 or 1)</li>\n",
    "- EX:<br>\n",
    "- pd.get_dummies(df[\"fuel\"])"
   ]
  },
  {
   "cell_type": "code",
   "execution_count": null,
   "id": "9bb7dc3c",
   "metadata": {},
   "outputs": [],
   "source": []
  }
 ],
 "metadata": {
  "kernelspec": {
   "display_name": "Python 3",
   "language": "python",
   "name": "python3"
  },
  "language_info": {
   "codemirror_mode": {
    "name": "ipython",
    "version": 3
   },
   "file_extension": ".py",
   "mimetype": "text/x-python",
   "name": "python",
   "nbconvert_exporter": "python",
   "pygments_lexer": "ipython3",
   "version": "3.8.8"
  }
 },
 "nbformat": 4,
 "nbformat_minor": 5
}
